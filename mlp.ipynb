{
 "cells": [
  {
   "cell_type": "code",
   "execution_count": 1,
   "metadata": {},
   "outputs": [
    {
     "name": "stderr",
     "output_type": "stream",
     "text": [
      "Using TensorFlow backend.\n"
     ]
    }
   ],
   "source": [
    "import numpy as np\n",
    "import matplotlib.pyplot as plt\n",
    "\n",
    "from keras.models import Sequential\n",
    "from keras.layers.core import Dense, Activation, Dropout\n",
    "from keras.datasets import mnist\n",
    "from keras.utils import np_utils\n",
    "\n",
    "np.random.seed(9)"
   ]
  },
  {
   "cell_type": "code",
   "execution_count": 2,
   "metadata": {},
   "outputs": [],
   "source": [
    "# user inputs\n",
    "nb_epoch = 25\n",
    "num_classes = 10\n",
    "batch_size = 128\n",
    "train_size = 60000\n",
    "test_size = 10000\n",
    "v_length = 784"
   ]
  },
  {
   "cell_type": "code",
   "execution_count": 3,
   "metadata": {},
   "outputs": [
    {
     "name": "stdout",
     "output_type": "stream",
     "text": [
      "[INFO] train data shape: (60000, 28, 28)\n",
      "[INFO] test data shape: (10000, 28, 28)\n",
      "[INFO] train samples: 60000\n",
      "[INFO] test samples: 10000\n"
     ]
    }
   ],
   "source": [
    "# split the mnist data into train and test\n",
    "(trainData, trainLabels), (testData, testLabels) = mnist.load_data()\n",
    "print(\"[INFO] train data shape: {}\".format(trainData.shape))\n",
    "print(\"[INFO] test data shape: {}\".format(testData.shape))\n",
    "print(\"[INFO] train samples: {}\".format(trainData.shape[0]))\n",
    "print(\"[INFO] test samples: {}\".format(testData.shape[0]))"
   ]
  },
  {
   "cell_type": "code",
   "execution_count": 5,
   "metadata": {},
   "outputs": [],
   "source": [
    "trainData = trainData.reshape(60000, 784)\n",
    "testData = testData.reshape(10000, 784)\n",
    "trainData = trainData.astype(\"float32\")\n",
    "testData = testData.astype(\"float32\")\n",
    "trainData /= 255\n",
    "testData /= 255"
   ]
  },
  {
   "cell_type": "code",
   "execution_count": 6,
   "metadata": {},
   "outputs": [],
   "source": [
    "# convert class vectors to binary class matrices --> one-hot encoding\n",
    "mTrainLabels = np_utils.to_categorical(trainLabels, num_classes)\n",
    "mTestLabels = np_utils.to_categorical(testLabels, num_classes)\n",
    "\n"
   ]
  },
  {
   "cell_type": "code",
   "execution_count": 7,
   "metadata": {},
   "outputs": [
    {
     "data": {
      "text/plain": [
       "array([0., 0., 0., 0., 0., 1., 0., 0., 0., 0.], dtype=float32)"
      ]
     },
     "execution_count": 7,
     "metadata": {},
     "output_type": "execute_result"
    }
   ],
   "source": [
    "mTrainLabels[0]"
   ]
  },
  {
   "cell_type": "code",
   "execution_count": 8,
   "metadata": {},
   "outputs": [
    {
     "name": "stdout",
     "output_type": "stream",
     "text": [
      "_________________________________________________________________\n",
      "Layer (type)                 Output Shape              Param #   \n",
      "=================================================================\n",
      "dense_1 (Dense)              (None, 512)               401920    \n",
      "_________________________________________________________________\n",
      "activation_1 (Activation)    (None, 512)               0         \n",
      "_________________________________________________________________\n",
      "dropout_1 (Dropout)          (None, 512)               0         \n",
      "_________________________________________________________________\n",
      "dense_2 (Dense)              (None, 256)               131328    \n",
      "_________________________________________________________________\n",
      "activation_2 (Activation)    (None, 256)               0         \n",
      "_________________________________________________________________\n",
      "dropout_2 (Dropout)          (None, 256)               0         \n",
      "_________________________________________________________________\n",
      "dense_3 (Dense)              (None, 10)                2570      \n",
      "_________________________________________________________________\n",
      "activation_3 (Activation)    (None, 10)                0         \n",
      "=================================================================\n",
      "Total params: 535,818\n",
      "Trainable params: 535,818\n",
      "Non-trainable params: 0\n",
      "_________________________________________________________________\n"
     ]
    }
   ],
   "source": [
    "#Two hidden layers are used with 512 neurons in hidden layer 1 and 256 neurons in hidden layer 2, \n",
    "#followed by a fully connected layer of 10 neurons for taking the probabilities of all the class labels.\n",
    "\n",
    "#ReLU is used as the activation function for hidden layers and \n",
    "#softmax is used as the activation function for output layer.\n",
    "\n",
    "# create the model\n",
    "model = Sequential()\n",
    "model.add(Dense(512, input_shape=(784,)))\n",
    "model.add(Activation(\"relu\"))\n",
    "model.add(Dropout(0.2))\n",
    "model.add(Dense(256))\n",
    "model.add(Activation(\"relu\"))\n",
    "model.add(Dropout(0.2))\n",
    "model.add(Dense(num_classes))\n",
    "model.add(Activation(\"softmax\"))\n",
    "\n",
    "# summarize the model\n",
    "model.summary()"
   ]
  },
  {
   "cell_type": "code",
   "execution_count": 9,
   "metadata": {},
   "outputs": [],
   "source": [
    "model.compile(loss=\"categorical_crossentropy\", optimizer=\"adam\", metrics=[\"accuracy\"])"
   ]
  },
  {
   "cell_type": "code",
   "execution_count": 10,
   "metadata": {},
   "outputs": [
    {
     "name": "stdout",
     "output_type": "stream",
     "text": [
      "Train on 60000 samples, validate on 10000 samples\n",
      "Epoch 1/25\n",
      " - 7s - loss: 0.2642 - acc: 0.9215 - val_loss: 0.1124 - val_acc: 0.9656\n",
      "Epoch 2/25\n",
      " - 7s - loss: 0.1071 - acc: 0.9670 - val_loss: 0.0817 - val_acc: 0.9739\n",
      "Epoch 3/25\n",
      " - 7s - loss: 0.0768 - acc: 0.9764 - val_loss: 0.0701 - val_acc: 0.9785\n",
      "Epoch 4/25\n",
      " - 7s - loss: 0.0577 - acc: 0.9816 - val_loss: 0.0662 - val_acc: 0.9803\n",
      "Epoch 5/25\n",
      " - 7s - loss: 0.0490 - acc: 0.9843 - val_loss: 0.0694 - val_acc: 0.9786\n",
      "Epoch 6/25\n",
      " - 7s - loss: 0.0403 - acc: 0.9873 - val_loss: 0.0638 - val_acc: 0.9811\n",
      "Epoch 7/25\n",
      " - 8s - loss: 0.0350 - acc: 0.9885 - val_loss: 0.0607 - val_acc: 0.9821\n",
      "Epoch 8/25\n",
      " - 7s - loss: 0.0313 - acc: 0.9898 - val_loss: 0.0757 - val_acc: 0.9790\n",
      "Epoch 9/25\n",
      " - 7s - loss: 0.0270 - acc: 0.9910 - val_loss: 0.0711 - val_acc: 0.9815\n",
      "Epoch 10/25\n",
      " - 6s - loss: 0.0251 - acc: 0.9919 - val_loss: 0.0679 - val_acc: 0.9817\n",
      "Epoch 11/25\n",
      " - 6s - loss: 0.0233 - acc: 0.9925 - val_loss: 0.0780 - val_acc: 0.9805\n",
      "Epoch 12/25\n",
      " - 6s - loss: 0.0228 - acc: 0.9924 - val_loss: 0.0675 - val_acc: 0.9825\n",
      "Epoch 13/25\n",
      " - 6s - loss: 0.0207 - acc: 0.9929 - val_loss: 0.0719 - val_acc: 0.9822\n",
      "Epoch 14/25\n",
      " - 7s - loss: 0.0196 - acc: 0.9932 - val_loss: 0.0627 - val_acc: 0.9831\n",
      "Epoch 15/25\n",
      " - 7s - loss: 0.0180 - acc: 0.9938 - val_loss: 0.0747 - val_acc: 0.9825\n",
      "Epoch 16/25\n",
      " - 6s - loss: 0.0162 - acc: 0.9944 - val_loss: 0.0766 - val_acc: 0.9822\n",
      "Epoch 17/25\n",
      " - 6s - loss: 0.0186 - acc: 0.9937 - val_loss: 0.0767 - val_acc: 0.9834\n",
      "Epoch 18/25\n",
      " - 7s - loss: 0.0146 - acc: 0.9950 - val_loss: 0.0792 - val_acc: 0.9822\n",
      "Epoch 19/25\n",
      " - 8s - loss: 0.0132 - acc: 0.9957 - val_loss: 0.0752 - val_acc: 0.9834\n",
      "Epoch 20/25\n",
      " - 7s - loss: 0.0151 - acc: 0.9949 - val_loss: 0.0771 - val_acc: 0.9837\n",
      "Epoch 21/25\n",
      " - 7s - loss: 0.0148 - acc: 0.9952 - val_loss: 0.0796 - val_acc: 0.9834\n",
      "Epoch 22/25\n",
      " - 7s - loss: 0.0148 - acc: 0.9953 - val_loss: 0.0710 - val_acc: 0.9839\n",
      "Epoch 23/25\n",
      " - 7s - loss: 0.0117 - acc: 0.9960 - val_loss: 0.0811 - val_acc: 0.9834\n",
      "Epoch 24/25\n",
      " - 7s - loss: 0.0160 - acc: 0.9948 - val_loss: 0.0688 - val_acc: 0.9844\n",
      "Epoch 25/25\n",
      " - 7s - loss: 0.0115 - acc: 0.9960 - val_loss: 0.0741 - val_acc: 0.9838\n"
     ]
    }
   ],
   "source": [
    "history = model.fit(trainData, mTrainLabels, validation_data=(testData, mTestLabels), batch_size=batch_size, epochs=nb_epoch, verbose=2)"
   ]
  },
  {
   "cell_type": "code",
   "execution_count": 12,
   "metadata": {},
   "outputs": [],
   "source": [
    "scores = model.evaluate(testData, mTestLabels, verbose=0)"
   ]
  },
  {
   "cell_type": "code",
   "execution_count": 13,
   "metadata": {},
   "outputs": [
    {
     "data": {
      "image/png": "[encoded data removed]",
      "text/plain": [
       "<Figure size 432x288 with 1 Axes>"
      ]
     },
     "metadata": {
      "needs_background": "light"
     },
     "output_type": "display_data"
    }
   ],
   "source": [
    "plt.plot(history.history[\"acc\"])\n",
    "plt.plot(history.history[\"val_acc\"])\n",
    "plt.title(\"Model Accuracy\")\n",
    "plt.xlabel(\"Epoch\")\n",
    "plt.ylabel(\"Accuracy\")\n",
    "plt.legend([\"train\", \"test\"], loc=\"upper left\")\n",
    "plt.show()"
   ]
  },
  {
   "cell_type": "code",
   "execution_count": 14,
   "metadata": {},
   "outputs": [
    {
     "data": {
      "image/png": "[encoded data removed]",
      "text/plain": [
       "<Figure size 432x288 with 1 Axes>"
      ]
     },
     "metadata": {
      "needs_background": "light"
     },
     "output_type": "display_data"
    }
   ],
   "source": [
    "plt.plot(history.history[\"loss\"])\n",
    "plt.plot(history.history[\"val_loss\"])\n",
    "plt.title(\"Model Loss\")\n",
    "plt.xlabel(\"Epoch\")\n",
    "plt.ylabel(\"Loss\")\n",
    "plt.legend([\"train\", \"test\"], loc=\"upper left\")\n",
    "plt.show()"
   ]
  },
  {
   "cell_type": "code",
   "execution_count": 15,
   "metadata": {},
   "outputs": [
    {
     "name": "stdout",
     "output_type": "stream",
     "text": [
      "[INFO] test score - 0.07407826047883141\n",
      "[INFO] test accuracy - 0.9838\n"
     ]
    }
   ],
   "source": [
    "print(\"[INFO] test score - {}\".format(scores[0]))\n",
    "print(\"[INFO] test accuracy - {}\".format(scores[1]))"
   ]
  },
  {
   "cell_type": "code",
   "execution_count": 22,
   "metadata": {},
   "outputs": [],
   "source": [
    "import matplotlib.pyplot as plt\n",
    "\n",
    "test_images = testData[1:5]"
   ]
  },
  {
   "cell_type": "code",
   "execution_count": 23,
   "metadata": {},
   "outputs": [
    {
     "name": "stdout",
     "output_type": "stream",
     "text": [
      "[INFO] test images shape - (4, 28, 28)\n"
     ]
    }
   ],
   "source": [
    "test_images = test_images.reshape(test_images.shape[0], 28, 28)\n",
    "print(\"[INFO] test images shape - {}\".format(test_images.shape))"
   ]
  },
  {
   "cell_type": "code",
   "execution_count": 24,
   "metadata": {},
   "outputs": [
    {
     "name": "stdout",
     "output_type": "stream",
     "text": [
      "[INFO] I think the digit is - 2\n",
      "[INFO] I think the digit is - 1\n",
      "[INFO] I think the digit is - 0\n",
      "[INFO] I think the digit is - 4\n"
     ]
    },
    {
     "data": {
      "image/png": "[encoded data removed]",
      "text/plain": [
       "<Figure size 432x288 with 4 Axes>"
      ]
     },
     "metadata": {
      "needs_background": "light"
     },
     "output_type": "display_data"
    }
   ],
   "source": [
    "for i, test_image in enumerate(test_images, start=1):\n",
    "\torg_image = test_image\n",
    "\t\n",
    "\ttest_image = test_image.reshape(1,784)\n",
    "\t\n",
    "\tprediction = model.predict_classes(test_image, verbose=0)\n",
    "\t\n",
    "\tprint(\"[INFO] I think the digit is - {}\".format(prediction[0]))\n",
    "\tplt.subplot(220+i)\n",
    "\tplt.imshow(org_image, cmap=plt.get_cmap('gray'))\n",
    "\n",
    "plt.show()"
   ]
  },
  {
   "cell_type": "code",
   "execution_count": null,
   "metadata": {},
   "outputs": [],
   "source": []
  }
 ],
 "metadata": {
  "kernelspec": {
   "display_name": "Python 3",
   "language": "python",
   "name": "python3"
  },
  "language_info": {
   "codemirror_mode": {
    "name": "ipython",
    "version": 3
   },
   "file_extension": ".py",
   "mimetype": "text/x-python",
   "name": "python",
   "nbconvert_exporter": "python",
   "pygments_lexer": "ipython3",
   "version": "3.6.7"
  }
 },
 "nbformat": 4,
 "nbformat_minor": 2
}
